{
 "cells": [
  {
   "cell_type": "code",
   "execution_count": 4,
   "id": "b11223cf",
   "metadata": {},
   "outputs": [],
   "source": [
    "# Read in some text from a corpus, tokenize it, and print the list of all wh-word types that occur.\n",
    "# (wh-words in English are used in questions, relative clauses, and exclamations: who, which, \n",
    "# what, and so on.) Print them in order. Are any words duplicated in this list, \n",
    "# because of the presence of case distinctions or punctuation?\n",
    "\n",
    "import nltk\n",
    "from nltk.book import *\n",
    "from nltk import word_tokenize\n"
   ]
  },
  {
   "cell_type": "code",
   "execution_count": 5,
   "id": "c583e64f",
   "metadata": {},
   "outputs": [],
   "source": [
    "f = open('C:/Users/Anes/Downloads/randomTxtAssignmentTask.txt')\n",
    "raw = f.read()"
   ]
  },
  {
   "cell_type": "code",
   "execution_count": 6,
   "id": "10c96c41",
   "metadata": {},
   "outputs": [
    {
     "name": "stdout",
     "output_type": "stream",
     "text": [
      "What are you doiujgn, are youd udmndbbd. what which where why who which woher\n"
     ]
    }
   ],
   "source": [
    "print(raw)"
   ]
  },
  {
   "cell_type": "code",
   "execution_count": 7,
   "id": "fc3e5740",
   "metadata": {},
   "outputs": [],
   "source": [
    "tokens = nltk.word_tokenize(raw)"
   ]
  },
  {
   "cell_type": "code",
   "execution_count": 10,
   "id": "bd307810",
   "metadata": {},
   "outputs": [
    {
     "name": "stdout",
     "output_type": "stream",
     "text": [
      "['what', 'where', 'which', 'who', 'why']\n"
     ]
    }
   ],
   "source": [
    "wh = [word for word in tokens if word.startswith('wh')]\n",
    "print(sorted(set(wh)))"
   ]
  },
  {
   "cell_type": "code",
   "execution_count": 20,
   "id": "27b7b4df",
   "metadata": {},
   "outputs": [
    {
     "name": "stdout",
     "output_type": "stream",
     "text": [
      "Number is : mehosuljohamomirso\n",
      "Number is :   meho\n",
      "Number is : mehosuljohamomirso\n",
      "Number is : meho  \n"
     ]
    }
   ],
   "source": [
    "# What happens when the formatting strings %6s and %-6s are used to display strings that \n",
    "# are longer than six characters?\n",
    "\n",
    "print(\"Number is : %6s\" % 'mehosuljohamomirso')\n",
    "print(\"Number is : %6s\" % 'meho')\n",
    "print(\"Number is : %-6s\" % 'mehosuljohamomirso')\n",
    "print(\"Number is : %-6s\" % 'meho')"
   ]
  },
  {
   "cell_type": "code",
   "execution_count": null,
   "id": "1343d0e2",
   "metadata": {},
   "outputs": [],
   "source": []
  }
 ],
 "metadata": {
  "kernelspec": {
   "display_name": "Python 3 (ipykernel)",
   "language": "python",
   "name": "python3"
  },
  "language_info": {
   "codemirror_mode": {
    "name": "ipython",
    "version": 3
   },
   "file_extension": ".py",
   "mimetype": "text/x-python",
   "name": "python",
   "nbconvert_exporter": "python",
   "pygments_lexer": "ipython3",
   "version": "3.11.5"
  }
 },
 "nbformat": 4,
 "nbformat_minor": 5
}
