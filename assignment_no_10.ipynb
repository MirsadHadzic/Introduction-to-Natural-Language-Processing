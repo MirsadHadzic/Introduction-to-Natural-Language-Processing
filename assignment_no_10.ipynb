{
 "cells": [
  {
   "cell_type": "code",
   "execution_count": 14,
   "id": "aa31e984",
   "metadata": {},
   "outputs": [],
   "source": [
    "import pandas as pd\n",
    "from sklearn.feature_extraction.text import TfidfVectorizer\n",
    "from sklearn.ensemble import RandomForestClassifier\n",
    "\n",
    "train_df = pd.read_csv('C:/Users/Anes/Downloads/labeledTrainData.csv', encoding='utf-8')\n",
    "\n",
    "X_train = train_df['review']\n",
    "y_train = train_df['sentiment']\n",
    "\n",
    "vectorizer = TfidfVectorizer()\n",
    "X_train_tfidf = vectorizer.fit_transform(X_train)\n",
    "\n",
    "forest = RandomForestClassifier(n_estimators=100, random_state=42)\n",
    "forest.fit(X_train_tfidf, y_train)\n",
    "\n",
    "# Load test dataset\n",
    "test_df = pd.read_csv('C:/Users/Anes/Downloads/testData(1).csv', encoding='utf-8')\n",
    "\n",
    "test_reviews = test_df['review']\n",
    "\n",
    "test_reviews = test_reviews.apply(lambda x: x.encode('utf-8', 'ignore').decode('utf-8'))\n",
    "\n",
    "test_tfidf = vectorizer.transform(test_reviews)\n",
    "\n",
    "predictions = forest.predict(test_tfidf)\n",
    "\n",
    "# Create a DataFrame with IDs and predicted labels\n",
    "output_df = pd.DataFrame({'id': test_df['id'], 'Predicted_Sentiment': predictions})\n",
    "\n",
    "output_df.to_csv('predictions.csv', index=False)\n"
   ]
  },
  {
   "cell_type": "code",
   "execution_count": 11,
   "id": "9299e5ce",
   "metadata": {},
   "outputs": [],
   "source": [
    "import pandas as pd\n",
    "\n",
    "# Read TSV file\n",
    "tsv_file = 'C:/Users/Anes/Downloads/testData(1).tsv'\n",
    "df = pd.read_csv(tsv_file, delimiter='\\t', encoding='utf-8')\n",
    "\n",
    "# Save as CSV\n",
    "csv_file = 'C:/Users/Anes/Downloads/testData(1).csv'\n",
    "df.to_csv(csv_file, index=False, encoding='utf-8')\n"
   ]
  },
  {
   "cell_type": "code",
   "execution_count": 13,
   "id": "f1ba92d0",
   "metadata": {},
   "outputs": [],
   "source": [
    "import pandas as pd\n",
    "\n",
    "# Read TSV file\n",
    "tsv_file = 'C:/Users/Anes/Downloads/labeledTrainData.tsv'\n",
    "df = pd.read_csv(tsv_file, delimiter='\\t', encoding='utf-8')\n",
    "\n",
    "# Save as CSV\n",
    "csv_file = 'C:/Users/Anes/Downloads/labeledTrainData.csv'\n",
    "df.to_csv(csv_file, index=False, encoding='utf-8')\n"
   ]
  },
  {
   "cell_type": "code",
   "execution_count": null,
   "id": "8c1a071c",
   "metadata": {},
   "outputs": [],
   "source": []
  }
 ],
 "metadata": {
  "kernelspec": {
   "display_name": "Python 3 (ipykernel)",
   "language": "python",
   "name": "python3"
  },
  "language_info": {
   "codemirror_mode": {
    "name": "ipython",
    "version": 3
   },
   "file_extension": ".py",
   "mimetype": "text/x-python",
   "name": "python",
   "nbconvert_exporter": "python",
   "pygments_lexer": "ipython3",
   "version": "3.11.5"
  }
 },
 "nbformat": 4,
 "nbformat_minor": 5
}
