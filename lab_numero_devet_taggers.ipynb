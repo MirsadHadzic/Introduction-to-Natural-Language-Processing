{
 "cells": [
  {
   "cell_type": "code",
   "execution_count": 15,
   "id": "45149105",
   "metadata": {},
   "outputs": [
    {
     "name": "stdout",
     "output_type": "stream",
     "text": [
      "whole size: 4623 -> 99% of size: 4576\n",
      "training set: [[('The', 'AT'), ('Fulton', 'NP-TL'), ('County', 'NN-TL'), ('Grand', 'JJ-TL'), ('Jury', 'NN-TL'), ('said', 'VBD'), ('Friday', 'NR'), ('an', 'AT'), ('investigation', 'NN'), ('of', 'IN'), (\"Atlanta's\", 'NP$'), ('recent', 'JJ'), ('primary', 'NN'), ('election', 'NN'), ('produced', 'VBD'), ('``', '``'), ('no', 'AT'), ('evidence', 'NN'), (\"''\", \"''\"), ('that', 'CS'), ('any', 'DTI'), ('irregularities', 'NNS'), ('took', 'VBD'), ('place', 'NN'), ('.', '.')], [('The', 'AT'), ('jury', 'NN'), ('further', 'RBR'), ('said', 'VBD'), ('in', 'IN'), ('term-end', 'NN'), ('presentments', 'NNS'), ('that', 'CS'), ('the', 'AT'), ('City', 'NN-TL'), ('Executive', 'JJ-TL'), ('Committee', 'NN-TL'), (',', ','), ('which', 'WDT'), ('had', 'HVD'), ('over-all', 'JJ'), ('charge', 'NN'), ('of', 'IN'), ('the', 'AT'), ('election', 'NN'), (',', ','), ('``', '``'), ('deserves', 'VBZ'), ('the', 'AT'), ('praise', 'NN'), ('and', 'CC'), ('thanks', 'NNS'), ('of', 'IN'), ('the', 'AT'), ('City', 'NN-TL'), ('of', 'IN-TL'), ('Atlanta', 'NP-TL'), (\"''\", \"''\"), ('for', 'IN'), ('the', 'AT'), ('manner', 'NN'), ('in', 'IN'), ('which', 'WDT'), ('the', 'AT'), ('election', 'NN'), ('was', 'BEDZ'), ('conducted', 'VBN'), ('.', '.')], ...]\n",
      "deafult tagger: [('This', 'NN'), ('is', 'NN'), ('a', 'NN'), ('test', 'NN')]\n",
      "regex tagger: [('This', 'NNS'), ('is', 'NNS'), ('a', 'NN'), ('test', 'NN')]\n",
      "unigram tagger: [('This', 'DT'), ('is', 'BEZ'), ('a', 'AT'), ('test', 'NN')]\n",
      "bigram tagger: [('This', 'DT'), ('is', 'BEZ'), ('a', 'AT'), ('test', 'NN')]\n",
      "0.8946428571428572\n"
     ]
    }
   ],
   "source": [
    "#Create a regular expression tagger and various unigram and\n",
    "#n-gram taggers, incorporating backoff, and train them on\n",
    "#part of the Brown Corpus.\n",
    "#a. Create three different combinations of the taggers.\n",
    "#Test the accuracy of each combined tagger. Which combination\n",
    "#works best?\n",
    "#b. Try varying the size of the training corpus.\n",
    "#How does it affect your results?\n",
    "\n",
    "import nltk\n",
    "#nltk.download('brown')\n",
    "\n",
    "\n",
    "tagged_sents = nltk.corpus.brown.tagged_sents(categories='news')\n",
    "\n",
    "#we will take 99% of tagged_sents size\n",
    "size = int(len(tagged_sents) * 0.99)\n",
    "print('whole size:',len(tagged_sents), '-> 99% of size:',size)\n",
    "\n",
    "#split sents into train and test sets\n",
    "train_sents = tagged_sents[:size]\n",
    "test_sents = tagged_sents[size:]\n",
    "print('training set:', train_sents)\n",
    "\n",
    "#create regex pattern for RegexTagger\n",
    "patterns = [\n",
    "     (r'.*ing$', 'VBG'),               # gerunds\n",
    "     (r'.*ed$', 'VBD'),                # simple past\n",
    "     (r'.*es$', 'VBZ'),                # 3rd singular present\n",
    "     (r'.*ould$', 'MD'),               # modals\n",
    "     (r'.*\\'s$', 'NN$'),               # possessive nouns\n",
    "     (r'.*s$', 'NNS'),                 # plural nouns\n",
    "     (r'^-?[0-9]+(.[0-9]+)?$', 'CD'),  # cardinal numbers\n",
    "     (r'.*', 'NN')                     # nouns (default)\n",
    "     ]\n",
    "\n",
    "#first create a deafult tagger to tag all words NN\n",
    "t0 = nltk.DefaultTagger('NN')\n",
    "print('deafult tagger:',t0.tag('This is a test'.split()))\n",
    "\n",
    "#second create a regex tagger to tag words based on regex and words that are not within regex are tagged with NN\n",
    "#backoff will take default tagger results\n",
    "tr = nltk.RegexpTagger(patterns, backoff=t0)\n",
    "print('regex tagger:',tr.tag('This is a test'.split()))\n",
    "\n",
    "#third create a unigram tagger\n",
    "#backoff will take regex tagger\n",
    "t1 = nltk.UnigramTagger(train_sents, backoff=tr)\n",
    "print('unigram tagger:',t1.tag('This is a test'.split()))\n",
    "\n",
    "#third create a bigram tagger\n",
    "#backoff will take unigram tagger\n",
    "t2 = nltk.BigramTagger(train_sents, backoff=t1)\n",
    "print('bigram tagger:',t2.tag('This is a test'.split()))\n",
    "\n",
    "print(t2.accuracy(test_sents))"
   ]
  },
  {
   "cell_type": "code",
   "execution_count": 10,
   "id": "9a3b6166",
   "metadata": {},
   "outputs": [
    {
     "name": "stdout",
     "output_type": "stream",
     "text": [
      "0.8017857142857143\n"
     ]
    }
   ],
   "source": [
    "t0 = nltk.DefaultTagger('NN')\n",
    "\n",
    "tr = nltk.UnigramTagger(train_sents, backoff=t0)\n",
    "\n",
    "t1 = nltk.RegexpTagger( patterns, backoff=tr)\n",
    "\n",
    "t2 = nltk.BigramTagger(train_sents, backoff=t1)\n",
    "\n",
    "print(t2.accuracy(test_sents))"
   ]
  },
  {
   "cell_type": "code",
   "execution_count": 16,
   "id": "c8d35b79",
   "metadata": {},
   "outputs": [
    {
     "name": "stdout",
     "output_type": "stream",
     "text": [
      "0.8785714285714286\n"
     ]
    }
   ],
   "source": [
    "t0 = nltk.DefaultTagger('NN')\n",
    "\n",
    "tr = nltk.BigramTagger(train_sents, backoff=t0)\n",
    "\n",
    "t1 = nltk.RegexpTagger(patterns, backoff=tr)\n",
    "\n",
    "t2 = nltk.UnigramTagger(train_sents, backoff=t1)\n",
    "\n",
    "print(t2.accuracy(test_sents))"
   ]
  },
  {
   "cell_type": "code",
   "execution_count": 8,
   "id": "88e2b348",
   "metadata": {},
   "outputs": [
    {
     "data": {
      "image/png": "[encoded data removed]",
      "text/plain": [
       "<Figure size 640x480 with 1 Axes>"
      ]
     },
     "metadata": {},
     "output_type": "display_data"
    }
   ],
   "source": [
    "def performance(prec):\n",
    "\n",
    "    size = int(len(tagged_sents) * prec)\n",
    "    train_sents = tagged_sents[:size]\n",
    "    test_sents = tagged_sents[size:]\n",
    "\n",
    "    t0 = nltk.DefaultTagger('NN')\n",
    "    tr = nltk.BigramTagger(train_sents, backoff=t0)\n",
    "    t1 = nltk.RegexpTagger(patterns, backoff=tr)\n",
    "    t2 = nltk.UnigramTagger(train_sents, backoff=t1)\n",
    "    return t2.accuracy(test_sents)\n",
    "\n",
    "def display():\n",
    "    import pylab\n",
    "    sizes = [0.5,0.6,0.7,0.8,0.9,0.95]\n",
    "    perfs = [performance(size) for size in sizes]\n",
    "    pylab.plot(sizes, perfs, '-bo')\n",
    "    pylab.title('Performance with Varying Model Size')\n",
    "    pylab.xlabel('Model Size')\n",
    "    pylab.ylabel('Performance')\n",
    "    pylab.show()\n",
    "\n",
    "display()\n"
   ]
  },
  {
   "cell_type": "code",
   "execution_count": 17,
   "id": "ad334579",
   "metadata": {},
   "outputs": [
    {
     "name": "stdout",
     "output_type": "stream",
     "text": [
      "0.8785714285714286\n"
     ]
    }
   ],
   "source": [
    "t0 = nltk.DefaultTagger('NN')\n",
    "\n",
    "tr = nltk.BigramTagger(train_sents, backoff=t0)\n",
    "\n",
    "t1 = nltk.RegexpTagger(patterns, backoff=tr)\n",
    "\n",
    "t2 = nltk.UnigramTagger(train_sents, backoff=t1)\n",
    "\n",
    "print(t2.accuracy(test_sents))"
   ]
  },
  {
   "cell_type": "code",
   "execution_count": null,
   "id": "01095f33",
   "metadata": {},
   "outputs": [],
   "source": []
  }
 ],
 "metadata": {
  "kernelspec": {
   "display_name": "Python 3 (ipykernel)",
   "language": "python",
   "name": "python3"
  },
  "language_info": {
   "codemirror_mode": {
    "name": "ipython",
    "version": 3
   },
   "file_extension": ".py",
   "mimetype": "text/x-python",
   "name": "python",
   "nbconvert_exporter": "python",
   "pygments_lexer": "ipython3",
   "version": "3.11.5"
  }
 },
 "nbformat": 4,
 "nbformat_minor": 5
}
