{
 "cells": [
  {
   "cell_type": "markdown",
   "id": "60824119",
   "metadata": {},
   "source": [
    "Create a regular expression tagger and various unigram and n-gram taggers, incorporating backoff, and train them on part of the Brown Corpus.\n"
   ]
  },
  {
   "cell_type": "code",
   "execution_count": 6,
   "id": "18e730a2",
   "metadata": {},
   "outputs": [
    {
     "name": "stdout",
     "output_type": "stream",
     "text": [
      "Bigram Tagger Evaluation: 0.8946428571428572\n"
     ]
    },
    {
     "name": "stderr",
     "output_type": "stream",
     "text": [
      "C:\\Users\\Anes\\AppData\\Local\\Temp\\ipykernel_27384\\1845462591.py:32: DeprecationWarning: \n",
      "  Function evaluate() has been deprecated.  Use accuracy(gold)\n",
      "  instead.\n",
      "  evaluation_result = bigram_tagger.evaluate(test_sents)\n"
     ]
    }
   ],
   "source": [
    "import nltk\n",
    "#nltk.download('brown')\n",
    "#from nltk.corpus import brown\n",
    "\n",
    "# Getting the data ready\n",
    "tagged_sents = brown.tagged_sents(categories='news')\n",
    "\n",
    "# Splitting the data into training and test sets\n",
    "size = int(len(tagged_sents) * 0.99)\n",
    "train_sents = tagged_sents[:size]\n",
    "test_sents = tagged_sents[size:]\n",
    "\n",
    "# Regular expression patterns\n",
    "patterns = [\n",
    "    (r'.*ing$', 'VBG'),               # Gerunds\n",
    "    (r'.*ed$', 'VBD'),                # Simple past\n",
    "    (r'.*es$', 'VBZ'),                # 3rd singular present\n",
    "    (r'.*ould$', 'MD'),               # Modals\n",
    "    (r'.*\\'s$', 'NN$'),               # Possessive nouns\n",
    "    (r'.*s$', 'NNS'),                 # Plural nouns\n",
    "    (r'^-?[0-9]+(.[0-9]+)?$', 'CD'),  # Cardinal numbers\n",
    "    (r'.*', 'NN')                     # Nouns (default)\n",
    "]\n",
    "\n",
    "# Creating taggers with backoff\n",
    "default_tagger = nltk.DefaultTagger('NN')\n",
    "regexp_tagger = nltk.RegexpTagger(patterns, backoff=default_tagger)\n",
    "unigram_tagger = nltk.UnigramTagger(train_sents, backoff=regexp_tagger)\n",
    "bigram_tagger = nltk.BigramTagger(train_sents, backoff=unigram_tagger)\n",
    "\n",
    "# Evaluating the tagger on the test set\n",
    "evaluation_result = bigram_tagger.evaluate(test_sents)\n",
    "print(\"Bigram Tagger Evaluation:\", evaluation_result)\n"
   ]
  },
  {
   "cell_type": "code",
   "execution_count": null,
   "id": "6d72dffb",
   "metadata": {},
   "outputs": [],
   "source": []
  },
  {
   "cell_type": "code",
   "execution_count": null,
   "id": "d751e91f",
   "metadata": {},
   "outputs": [],
   "source": []
  }
 ],
 "metadata": {
  "kernelspec": {
   "display_name": "Python 3 (ipykernel)",
   "language": "python",
   "name": "python3"
  },
  "language_info": {
   "codemirror_mode": {
    "name": "ipython",
    "version": 3
   },
   "file_extension": ".py",
   "mimetype": "text/x-python",
   "name": "python",
   "nbconvert_exporter": "python",
   "pygments_lexer": "ipython3",
   "version": "3.11.5"
  }
 },
 "nbformat": 4,
 "nbformat_minor": 5
}
