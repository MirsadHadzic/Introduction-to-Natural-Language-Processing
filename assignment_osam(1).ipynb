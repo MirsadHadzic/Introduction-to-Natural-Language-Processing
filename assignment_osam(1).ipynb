{
 "cells": [
  {
   "cell_type": "code",
   "execution_count": 10,
   "id": "5f6809fa",
   "metadata": {},
   "outputs": [],
   "source": [
    "# Write a tag pattern to cover noun phrases that contain gerunds, \n",
    "# e.g., the/DT receiving/VBG end/NN, assistant/NN managing/VBG editor/NN. \n",
    "# Add these patterns to the grammar, one per line. Test your work using \n",
    "# some tagged sentences of your own.\n",
    "\n",
    "import nltk\n",
    "grammar = [(\"the\", \"DT\"), (\"receiving\", \"VBG\"), (\"end\",\"NN\"), (\"assistant\", \"NN\"), (\"managing\",\"VBG\"), (\"editor\", \"NN\")]\n",
    "cp = nltk.RegexpParser(\"Gerunds: {<DT>?<NN>?<VBG><NN>}\")\n",
    "cp.parse(grammar).draw()\n",
    "\n",
    "\n",
    "#textchunk = [('meho', 'NN'), ('dobija', 'VBG'), ('salatu', 'NN'),\n",
    "           # (\"sta\", \"VBG\"), (\"se\", \"DT\"), (\"desava\",\"VBG\")]\n",
    "\n",
    "#cp = nltk.RegexpParser(\"Gerunds: {<DT>?<NN>?<VBG><NN>}\")\n",
    "#cp.parse(textchunk).draw()"
   ]
  },
  {
   "cell_type": "code",
   "execution_count": null,
   "id": "8b7c0b50",
   "metadata": {},
   "outputs": [],
   "source": []
  }
 ],
 "metadata": {
  "kernelspec": {
   "display_name": "Python 3 (ipykernel)",
   "language": "python",
   "name": "python3"
  },
  "language_info": {
   "codemirror_mode": {
    "name": "ipython",
    "version": 3
   },
   "file_extension": ".py",
   "mimetype": "text/x-python",
   "name": "python",
   "nbconvert_exporter": "python",
   "pygments_lexer": "ipython3",
   "version": "3.11.5"
  }
 },
 "nbformat": 4,
 "nbformat_minor": 5
}
