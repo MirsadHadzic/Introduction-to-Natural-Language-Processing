{
 "cells": [
  {
   "cell_type": "code",
   "execution_count": 6,
   "id": "bbff462b",
   "metadata": {},
   "outputs": [
    {
     "name": "stdout",
     "output_type": "stream",
     "text": [
      "[Synset('car.n.01'), Synset('car.n.02'), Synset('car.n.03'), Synset('car.n.04'), Synset('cable_car.n.01')]\n",
      "Synset('car.n.01')\n",
      "['car', 'auto', 'automobile', 'machine', 'motorcar']\n",
      "a motor vehicle with four wheels; usually propelled by an internal combustion engine\n",
      "['he needs a car to get to work']\n",
      "[]\n",
      "[Synset('accelerator.n.01'), Synset('air_bag.n.01'), Synset('auto_accessory.n.01'), Synset('automobile_engine.n.01'), Synset('automobile_horn.n.01'), Synset('buffer.n.06'), Synset('bumper.n.02'), Synset('car_door.n.01'), Synset('car_mirror.n.01'), Synset('car_seat.n.01'), Synset('car_window.n.01'), Synset('fender.n.01'), Synset('first_gear.n.01'), Synset('floorboard.n.02'), Synset('gasoline_engine.n.01'), Synset('glove_compartment.n.01'), Synset('grille.n.02'), Synset('high_gear.n.01'), Synset('hood.n.09'), Synset('luggage_compartment.n.01'), Synset('rear_window.n.01'), Synset('reverse.n.02'), Synset('roof.n.02'), Synset('running_board.n.01'), Synset('stabilizer_bar.n.01'), Synset('sunroof.n.01'), Synset('tail_fin.n.02'), Synset('third_gear.n.01'), Synset('window.n.02')]\n",
      "[]\n",
      "[]\n",
      "[]\n",
      "[]\n",
      "[Synset('house.n.01'), Synset('firm.n.01'), Synset('house.n.03'), Synset('house.n.04'), Synset('house.n.05'), Synset('house.n.06'), Synset('house.n.07'), Synset('sign_of_the_zodiac.n.01'), Synset('house.n.09'), Synset('family.n.01'), Synset('theater.n.01'), Synset('house.n.12'), Synset('house.v.01'), Synset('house.v.02')]\n",
      "['house']\n",
      "a dwelling that serves as living quarters for one or more families\n",
      "['he has a house on Cape Cod', 'she felt she had to get out of the house']\n",
      "[]\n",
      "[Synset('library.n.01'), Synset('loft.n.02'), Synset('porch.n.01'), Synset('study.n.05')]\n",
      "[]\n",
      "[]\n",
      "[]\n",
      "[]\n"
     ]
    }
   ],
   "source": [
    "# 1. \n",
    "# Use NLTK library to import Brown Corpus and find following: \n",
    "\n",
    "# Investigate the holonym-meronym relations for some nouns. Remember that there are three kinds of holonym-meronym relation,\n",
    "# so you need to use member_mer onyms(), part_meronyms(), substance_meronyms(), member_holonyms(), part_holonyms(), and \n",
    "# substance_holonyms().\n",
    "\n",
    "car = wn.synsets('car')\n",
    "print(car)\n",
    "car = wn.synset('car.n.01')\n",
    "print(car)\n",
    "print(car.lemma_names())\n",
    "print(car.definition())\n",
    "print(car.examples())\n",
    "print(car.member_meronyms())\n",
    "print(car.part_meronyms())\n",
    "print(car.substance_meronyms())\n",
    "print(car.member_holonyms())\n",
    "print(car.part_holonyms())\n",
    "print(car.substance_holonyms())\n",
    "#################################################\n",
    "house = wn.synsets('house')\n",
    "print(house)\n",
    "house = wn.synset('house.n.01')\n",
    "print(house.lemma_names())\n",
    "print(house.definition())\n",
    "print(house.examples())\n",
    "print(house.member_meronyms())\n",
    "print(house.part_meronyms())\n",
    "print(house.substance_meronyms())\n",
    "print(house.member_holonyms())\n",
    "print(house.part_holonyms())\n",
    "print(house.substance_holonyms())\n",
    "#################################################"
   ]
  },
  {
   "cell_type": "code",
   "execution_count": 2,
   "id": "69b46b3a",
   "metadata": {},
   "outputs": [
    {
     "name": "stdout",
     "output_type": "stream",
     "text": [
      "*** Introductory Examples for the NLTK Book ***\n",
      "Loading text1, ..., text9 and sent1, ..., sent9\n",
      "Type the name of the text or sentence to view it.\n",
      "Type: 'texts()' or 'sents()' to list the materials.\n",
      "text1: Moby Dick by Herman Melville 1851\n",
      "text2: Sense and Sensibility by Jane Austen 1811\n",
      "text3: The Book of Genesis\n",
      "text4: Inaugural Address Corpus\n",
      "text5: Chat Corpus\n",
      "text6: Monty Python and the Holy Grail\n",
      "text7: Wall Street Journal\n",
      "text8: Personals Corpus\n",
      "text9: The Man Who Was Thursday by G . K . Chesterton 1908\n"
     ]
    }
   ],
   "source": [
    "import nltk \n",
    "from nltk.book import *"
   ]
  },
  {
   "cell_type": "code",
   "execution_count": 3,
   "id": "da5a5d07",
   "metadata": {},
   "outputs": [],
   "source": [
    "from nltk.corpus import brown"
   ]
  },
  {
   "cell_type": "code",
   "execution_count": 5,
   "id": "462d3df7",
   "metadata": {},
   "outputs": [],
   "source": [
    "from nltk.corpus import wordnet as wn"
   ]
  },
  {
   "cell_type": "code",
   "execution_count": 7,
   "id": "e1f2015d",
   "metadata": {},
   "outputs": [
    {
     "name": "stdout",
     "output_type": "stream",
     "text": [
      "Percentage of noun having no hyponyms:  79.67119283931072\n"
     ]
    }
   ],
   "source": [
    "# What percentage of noun synsets have no hyponyms? You can get all noun synsets using wn.all_synsets('n').\n",
    "no_hyp_nouns=[noun for noun in wn.all_synsets('n') if len(noun.hyponyms())==0]\n",
    "all_noun_words=[noun for noun in wn.all_synsets('n')]\n",
    "print(\"Percentage of noun having no hyponyms: \",len(no_hyp_nouns)/len(all_noun_words)*100)"
   ]
  },
  {
   "cell_type": "code",
   "execution_count": null,
   "id": "fd4c545e",
   "metadata": {},
   "outputs": [],
   "source": []
  }
 ],
 "metadata": {
  "kernelspec": {
   "display_name": "Python 3 (ipykernel)",
   "language": "python",
   "name": "python3"
  },
  "language_info": {
   "codemirror_mode": {
    "name": "ipython",
    "version": 3
   },
   "file_extension": ".py",
   "mimetype": "text/x-python",
   "name": "python",
   "nbconvert_exporter": "python",
   "pygments_lexer": "ipython3",
   "version": "3.11.5"
  }
 },
 "nbformat": 4,
 "nbformat_minor": 5
}
