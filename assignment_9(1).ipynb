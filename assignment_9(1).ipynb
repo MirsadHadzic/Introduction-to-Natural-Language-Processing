{
 "cells": [
  {
   "cell_type": "code",
   "execution_count": 2,
   "id": "f9354473",
   "metadata": {},
   "outputs": [
    {
     "name": "stderr",
     "output_type": "stream",
     "text": [
      "[nltk_data] Downloading package reuters to C:\\nltk_data...\n",
      "[nltk_data]   Package reuters is already up-to-date!\n",
      "[nltk_data] Downloading package stopwords to C:\\nltk_data...\n",
      "[nltk_data]   Package stopwords is already up-to-date!\n"
     ]
    },
    {
     "name": "stdout",
     "output_type": "stream",
     "text": [
      "Classifier Accuracy: 90.53%\n",
      "\n",
      "Most Informative Features:\n",
      "Most Informative Features\n",
      "                     qtr = 1                earn : acq    =    216.1 : 1.0\n",
      "                     net = 3                earn : acq    =    174.1 : 1.0\n",
      "                  intent = 1                 acq : earn   =    119.9 : 1.0\n",
      "                     avg = 2                earn : acq    =    115.4 : 1.0\n",
      "                     shr = 4                earn : acq    =    114.6 : 1.0\n",
      "                      vs = 8                earn : acq    =    105.3 : 1.0\n",
      "                      ct = 4                earn : acq    =    103.2 : 1.0\n",
      "                     shr = 1                earn : acq    =     86.4 : 1.0\n",
      "                  tender = 2                 acq : earn   =     80.8 : 1.0\n",
      "                  payout = 1                earn : acq    =     75.1 : 1.0\n"
     ]
    }
   ],
   "source": [
    "import random\n",
    "import nltk\n",
    "from nltk.corpus import reuters\n",
    "from nltk import FreqDist, classify, NaiveBayesClassifier\n",
    "from nltk.tokenize import word_tokenize\n",
    "from nltk.corpus import stopwords\n",
    "from nltk.stem import PorterStemmer\n",
    "nltk.download(\"reuters\")\n",
    "nltk.download(\"stopwords\")\n",
    "\n",
    "\n",
    "categories = ['acq', 'earn']\n",
    "documents = [(list(reuters.words(fileid)), category)\n",
    "             for category in categories\n",
    "             for fileid in reuters.fileids(category)]\n",
    "\n",
    "random.shuffle(documents)\n",
    "\n",
    "def document_features(document):\n",
    "    stop_words = set(stopwords.words(\"english\"))\n",
    "    ps = PorterStemmer()\n",
    "    \n",
    "    words = [ps.stem(word.lower()) for word in document if word.isalpha() and word.lower() not in stop_words]\n",
    "    features = FreqDist(words)\n",
    "    \n",
    "    return features\n",
    "\n",
    "featuresets = [(document_features(d), c) for (d, c) in documents]\n",
    "\n",
    "train_size = int(len(featuresets) * 0.8)\n",
    "train_set, test_set = featuresets[:train_size], featuresets[train_size:]\n",
    "\n",
    "classifier = NaiveBayesClassifier.train(train_set)\n",
    "\n",
    "accuracy = classify.accuracy(classifier, test_set)\n",
    "print(f\"Classifier Accuracy: {accuracy:.2%}\")\n",
    "\n",
    "print(\"\\nMost Informative Features:\")\n",
    "classifier.show_most_informative_features(10)\n"
   ]
  },
  {
   "cell_type": "code",
   "execution_count": null,
   "id": "58e13409",
   "metadata": {},
   "outputs": [],
   "source": []
  }
 ],
 "metadata": {
  "kernelspec": {
   "display_name": "Python 3 (ipykernel)",
   "language": "python",
   "name": "python3"
  },
  "language_info": {
   "codemirror_mode": {
    "name": "ipython",
    "version": 3
   },
   "file_extension": ".py",
   "mimetype": "text/x-python",
   "name": "python",
   "nbconvert_exporter": "python",
   "pygments_lexer": "ipython3",
   "version": "3.11.5"
  }
 },
 "nbformat": 4,
 "nbformat_minor": 5
}
