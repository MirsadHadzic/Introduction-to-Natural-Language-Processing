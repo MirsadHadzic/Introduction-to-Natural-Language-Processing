{
 "cells": [
  {
   "cell_type": "code",
   "execution_count": 1,
   "id": "ba1421e2",
   "metadata": {},
   "outputs": [
    {
     "name": "stderr",
     "output_type": "stream",
     "text": [
      "[nltk_data] Downloading package brown to C:\\nltk_data...\n",
      "[nltk_data]   Package brown is already up-to-date!\n"
     ]
    }
   ],
   "source": [
    "# Use NLTK library to import Brown Corpus and find following: \n",
    "\n",
    "# How many categories are there?\n",
    "# How many files are in each category?\n",
    "# How many words are in each category?\n",
    "\n",
    "import nltk \n",
    "nltk.download('brown')\n",
    "from nltk.corpus import brown"
   ]
  },
  {
   "cell_type": "code",
   "execution_count": 19,
   "id": "6ea6d4e4",
   "metadata": {},
   "outputs": [
    {
     "name": "stdout",
     "output_type": "stream",
     "text": [
      "15\n"
     ]
    }
   ],
   "source": [
    "# print(brown.categories())\n",
    "print(len(brown.categories()))"
   ]
  },
  {
   "cell_type": "code",
   "execution_count": 23,
   "id": "0d484f92",
   "metadata": {},
   "outputs": [
    {
     "name": "stdout",
     "output_type": "stream",
     "text": [
      "Category: adventure\n",
      "Number of files: 29\n",
      "Number of words: 69342\n",
      "\n",
      "Category: belles_lettres\n",
      "Number of files: 75\n",
      "Number of words: 173096\n",
      "\n",
      "Category: editorial\n",
      "Number of files: 27\n",
      "Number of words: 61604\n",
      "\n",
      "Category: fiction\n",
      "Number of files: 29\n",
      "Number of words: 68488\n",
      "\n",
      "Category: government\n",
      "Number of files: 30\n",
      "Number of words: 70117\n",
      "\n",
      "Category: hobbies\n",
      "Number of files: 36\n",
      "Number of words: 82345\n",
      "\n",
      "Category: humor\n",
      "Number of files: 9\n",
      "Number of words: 21695\n",
      "\n",
      "Category: learned\n",
      "Number of files: 80\n",
      "Number of words: 181888\n",
      "\n",
      "Category: lore\n",
      "Number of files: 48\n",
      "Number of words: 110299\n",
      "\n",
      "Category: mystery\n",
      "Number of files: 24\n",
      "Number of words: 57169\n",
      "\n",
      "Category: news\n",
      "Number of files: 44\n",
      "Number of words: 100554\n",
      "\n",
      "Category: religion\n",
      "Number of files: 17\n",
      "Number of words: 39399\n",
      "\n",
      "Category: reviews\n",
      "Number of files: 17\n",
      "Number of words: 40704\n",
      "\n",
      "Category: romance\n",
      "Number of files: 29\n",
      "Number of words: 70022\n",
      "\n",
      "Category: science_fiction\n",
      "Number of files: 6\n",
      "Number of words: 14470\n",
      "\n"
     ]
    }
   ],
   "source": [
    "categories = brown.categories()\n",
    "\n",
    "for i in categories:\n",
    "    fileids = brown.fileids(categories=i)\n",
    "    num_files = len(fileids)\n",
    "    num_words = len(brown.words(categories=i))\n",
    "    print(f\"Category: {i}\")\n",
    "    print(f\"Number of files: {num_files}\")\n",
    "    print(f\"Number of words: {num_words}\")\n",
    "    print()"
   ]
  },
  {
   "cell_type": "code",
   "execution_count": 21,
   "id": "03608714",
   "metadata": {},
   "outputs": [],
   "source": [
    "# brown.fileids()"
   ]
  },
  {
   "cell_type": "code",
   "execution_count": null,
   "id": "3b10d8dc",
   "metadata": {},
   "outputs": [],
   "source": []
  }
 ],
 "metadata": {
  "kernelspec": {
   "display_name": "Python 3 (ipykernel)",
   "language": "python",
   "name": "python3"
  },
  "language_info": {
   "codemirror_mode": {
    "name": "ipython",
    "version": 3
   },
   "file_extension": ".py",
   "mimetype": "text/x-python",
   "name": "python",
   "nbconvert_exporter": "python",
   "pygments_lexer": "ipython3",
   "version": "3.11.5"
  }
 },
 "nbformat": 4,
 "nbformat_minor": 5
}
