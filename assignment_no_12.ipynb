{
 "cells": [
  {
   "cell_type": "code",
   "execution_count": 1,
   "id": "ec59aca7",
   "metadata": {},
   "outputs": [],
   "source": [
    "import nltk\n",
    "# malo se duze ceka,otprilike 6-7 minuta"
   ]
  },
  {
   "cell_type": "code",
   "execution_count": 4,
   "id": "1bed8f94",
   "metadata": {},
   "outputs": [
    {
     "name": "stderr",
     "output_type": "stream",
     "text": [
      "[nltk_data] Downloading package reuters to C:\\nltk_data...\n",
      "[nltk_data]   Package reuters is already up-to-date!\n"
     ]
    },
    {
     "name": "stdout",
     "output_type": "stream",
     "text": [
      "Classifier Accuracy: 67.66%\n",
      "Most Informative Features\n",
      "          contains(palm) = True           palm-o : earn   =   2042.8 : 1.0\n",
      "        contains(copper) = True           copper : earn   =   1956.8 : 1.0\n",
      "        contains(rubber) = True           rubber : earn   =   1725.8 : 1.0\n",
      "   contains(agriculture) = True           copra- : earn   =   1573.5 : 1.0\n",
      "          contains(farm) = True             rice : earn   =   1573.5 : 1.0\n",
      "      contains(ministry) = True           naphth : earn   =   1573.5 : 1.0\n",
      "         contains(index) = True              lei : earn   =   1423.6 : 1.0\n",
      "           contains(why) = True              yen : earn   =   1311.2 : 1.0\n",
      "          contains(zinc) = True             zinc : earn   =   1101.5 : 1.0\n",
      "    contains(economists) = True              dfl : acq    =   1056.1 : 1.0\n"
     ]
    }
   ],
   "source": [
    "import nltk\n",
    "from nltk.corpus import reuters\n",
    "from sklearn.feature_extraction.text import TfidfVectorizer\n",
    "from sklearn.model_selection import train_test_split\n",
    "from sklearn.naive_bayes import MultinomialNB\n",
    "from sklearn.metrics import accuracy_score\n",
    "\n",
    "# Download the Reuters corpus\n",
    "nltk.download('reuters')\n",
    "\n",
    "# Construct a list of documents labeled with appropriate categories\n",
    "documents = [(reuters.words(fileid), reuters.categories(fileid)[0]) for fileid in reuters.fileids()]\n",
    "\n",
    "def document_features(document, vocabulary):\n",
    "    document_words = set(document)\n",
    "    features = {}\n",
    "    for word in vocabulary:\n",
    "        features[f\"contains({word})\"] = (word in document_words)\n",
    "    return features\n",
    "\n",
    "all_words = nltk.FreqDist(w.lower() for w in reuters.words())\n",
    "word_features = list(all_words.keys())[:2000]  # Use top 2000 words as features\n",
    "featuresets = [(document_features(doc, word_features), category) for (doc, category) in documents]\n",
    "\n",
    "# Split the data into training and testing sets\n",
    "train_set, test_set = train_test_split(featuresets, test_size=0.2, random_state=42)\n",
    "\n",
    "# Train a Naive Bayes classifier\n",
    "classifier = nltk.NaiveBayesClassifier.train(train_set)\n",
    "\n",
    "# Compute accuracy on the test set\n",
    "accuracy = accuracy_score([category for (features, category) in test_set], classifier.classify_many([features for (features, category) in test_set]))\n",
    "print(f\"Classifier Accuracy: {accuracy:.2%}\")\n",
    "\n",
    "# Find out which features the classifier found to be most informative\n",
    "classifier.show_most_informative_features(10)\n"
   ]
  },
  {
   "cell_type": "code",
   "execution_count": null,
   "id": "7166a1d2",
   "metadata": {},
   "outputs": [],
   "source": []
  }
 ],
 "metadata": {
  "kernelspec": {
   "display_name": "Python 3 (ipykernel)",
   "language": "python",
   "name": "python3"
  },
  "language_info": {
   "codemirror_mode": {
    "name": "ipython",
    "version": 3
   },
   "file_extension": ".py",
   "mimetype": "text/x-python",
   "name": "python",
   "nbconvert_exporter": "python",
   "pygments_lexer": "ipython3",
   "version": "3.11.5"
  }
 },
 "nbformat": 4,
 "nbformat_minor": 5
}
